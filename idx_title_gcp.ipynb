{
 "cells": [
  {
   "cell_type": "markdown",
   "id": "a00e032c",
   "metadata": {
    "id": "hWgiQS0zkWJ5"
   },
   "source": [
    "***Important*** DO NOT CLEAR THE OUTPUT OF THIS NOTEBOOK AFTER EXECUTION!!!"
   ]
  },
  {
   "cell_type": "code",
   "execution_count": 1,
   "id": "5ac36d3a",
   "metadata": {
    "id": "c0ccf76b",
    "nbgrader": {
     "grade": false,
     "grade_id": "cell-Worker_Count",
     "locked": true,
     "schema_version": 3,
     "solution": false,
     "task": false
    },
    "outputId": "cf88b954-f39a-412a-d87e-660833e735b6"
   },
   "outputs": [
    {
     "name": "stdout",
     "output_type": "stream",
     "text": [
      "NAME          PLATFORM  PRIMARY_WORKER_COUNT  SECONDARY_WORKER_COUNT  STATUS   ZONE           SCHEDULED_DELETE\r\n",
      "cluster-6d1a  GCE       2                                             RUNNING  us-central1-a\r\n"
     ]
    }
   ],
   "source": [
    "# if the following command generates an error, you probably didn't enable \n",
    "# the cluster security option \"Allow API access to all Google Cloud services\"\n",
    "# under Manage Security → Project Access when setting up the cluster\n",
    "!gcloud dataproc clusters list --region us-central1"
   ]
  },
  {
   "cell_type": "markdown",
   "id": "51cf86c5",
   "metadata": {
    "id": "01ec9fd3"
   },
   "source": [
    "# Imports & Setup"
   ]
  },
  {
   "cell_type": "code",
   "execution_count": 2,
   "id": "bf199e6a",
   "metadata": {
    "id": "32b3ec57",
    "nbgrader": {
     "grade": false,
     "grade_id": "cell-Setup",
     "locked": true,
     "schema_version": 3,
     "solution": false,
     "task": false
    },
    "outputId": "fc0e315d-21e9-411d-d69c-5b97e4e5d629"
   },
   "outputs": [
    {
     "name": "stdout",
     "output_type": "stream",
     "text": [
      "\u001B[33mWARNING: Running pip as the 'root' user can result in broken permissions and conflicting behaviour with the system package manager. It is recommended to use a virtual environment instead: https://pip.pypa.io/warnings/venv\u001B[0m\u001B[33m\n",
      "\u001B[0m\u001B[33mWARNING: Running pip as the 'root' user can result in broken permissions and conflicting behaviour with the system package manager. It is recommended to use a virtual environment instead: https://pip.pypa.io/warnings/venv\u001B[0m\u001B[33m\n",
      "\u001B[0m"
     ]
    }
   ],
   "source": [
    "!pip install -q google-cloud-storage==1.43.0\n",
    "!pip install -q graphframes"
   ]
  },
  {
   "cell_type": "code",
   "execution_count": 3,
   "id": "3259ec85",
   "metadata": {},
   "outputs": [
    {
     "name": "stdout",
     "output_type": "stream",
     "text": [
      "Requirement already satisfied: nltk in /opt/conda/miniconda3/lib/python3.10/site-packages (3.6.3)\n",
      "Requirement already satisfied: click in /opt/conda/miniconda3/lib/python3.10/site-packages (from nltk) (8.1.7)\n",
      "Requirement already satisfied: joblib in /opt/conda/miniconda3/lib/python3.10/site-packages (from nltk) (1.1.0)\n",
      "Requirement already satisfied: regex in /opt/conda/miniconda3/lib/python3.10/site-packages (from nltk) (2022.8.17)\n",
      "Requirement already satisfied: tqdm in /opt/conda/miniconda3/lib/python3.10/site-packages (from nltk) (4.66.2)\n",
      "\u001B[33mWARNING: Running pip as the 'root' user can result in broken permissions and conflicting behaviour with the system package manager. It is recommended to use a virtual environment instead: https://pip.pypa.io/warnings/venv\u001B[0m\u001B[33m\n",
      "\u001B[0mNote: you may need to restart the kernel to use updated packages.\n"
     ]
    }
   ],
   "source": [
    "pip install nltk"
   ]
  },
  {
   "cell_type": "code",
   "execution_count": 4,
   "id": "d8f56ecd",
   "metadata": {
    "id": "5609143b",
    "nbgrader": {
     "grade": false,
     "grade_id": "cell-Imports",
     "locked": true,
     "schema_version": 3,
     "solution": false,
     "task": false
    },
    "outputId": "a24aa24b-aa75-4823-83ca-1d7deef0f0de"
   },
   "outputs": [
    {
     "name": "stderr",
     "output_type": "stream",
     "text": [
      "[nltk_data] Downloading package stopwords to /root/nltk_data...\n",
      "[nltk_data]   Package stopwords is already up-to-date!\n"
     ]
    },
    {
     "data": {
      "text/plain": [
       "True"
      ]
     },
     "execution_count": 4,
     "metadata": {},
     "output_type": "execute_result"
    }
   ],
   "source": [
    "import pyspark\n",
    "import sys\n",
    "from collections import Counter, OrderedDict, defaultdict\n",
    "import itertools\n",
    "from itertools import islice, count, groupby\n",
    "import pandas as pd\n",
    "import os\n",
    "import re\n",
    "from operator import itemgetter\n",
    "import nltk\n",
    "from nltk.stem.porter import *\n",
    "from nltk.corpus import stopwords\n",
    "from time import time\n",
    "from pathlib import Path\n",
    "import pickle\n",
    "import pandas as pd\n",
    "from google.cloud import storage\n",
    "from operator import add\n",
    "\n",
    "\n",
    "import hashlib\n",
    "def _hash(s):\n",
    "    return hashlib.blake2b(bytes(s, encoding='utf8'), digest_size=5).hexdigest()\n",
    "\n",
    "nltk.download('stopwords')"
   ]
  },
  {
   "cell_type": "code",
   "execution_count": 5,
   "id": "38a897f2",
   "metadata": {
    "id": "b10cc999",
    "nbgrader": {
     "grade": false,
     "grade_id": "cell-jar",
     "locked": true,
     "schema_version": 3,
     "solution": false,
     "task": false
    },
    "outputId": "8f93a7ec-71e0-49c1-fc81-9af385849a90"
   },
   "outputs": [
    {
     "name": "stdout",
     "output_type": "stream",
     "text": [
      "-rw-r--r-- 1 root root 247882 Mar  8 12:49 /usr/lib/spark/jars/graphframes-0.8.2-spark3.1-s_2.12.jar\r\n"
     ]
    }
   ],
   "source": [
    "# if nothing prints here you forgot to include the initialization script when starting the cluster\n",
    "!ls -l /usr/lib/spark/jars/graph*"
   ]
  },
  {
   "cell_type": "code",
   "execution_count": 6,
   "id": "47900073",
   "metadata": {
    "id": "d3f86f11",
    "nbgrader": {
     "grade": false,
     "grade_id": "cell-pyspark-import",
     "locked": true,
     "schema_version": 3,
     "solution": false,
     "task": false
    }
   },
   "outputs": [],
   "source": [
    "from pyspark.sql import *\n",
    "from pyspark.sql.functions import *\n",
    "from pyspark import SparkContext, SparkConf, SparkFiles\n",
    "from pyspark.sql import SQLContext\n",
    "from graphframes import *"
   ]
  },
  {
   "cell_type": "code",
   "execution_count": 7,
   "id": "980e62a5",
   "metadata": {
    "id": "7adc1bf5",
    "nbgrader": {
     "grade": false,
     "grade_id": "cell-bucket_name",
     "locked": false,
     "schema_version": 3,
     "solution": true,
     "task": false
    }
   },
   "outputs": [],
   "source": [
    "# Put your bucket name below and make sure you can access it without an error\n",
    "bucket_name = 'nettaya-315443382' \n",
    "full_path = f\"gs://{bucket_name}/\"\n",
    "paths=[]\n",
    "\n",
    "client = storage.Client()\n",
    "blobs = client.list_blobs(bucket_name)\n",
    "for b in blobs:\n",
    "    if b.name.endswith('.parquet'):\n",
    "        paths.append(full_path+b.name)"
   ]
  },
  {
   "cell_type": "code",
   "execution_count": 8,
   "id": "57c101a8",
   "metadata": {
    "id": "2d3285d8",
    "scrolled": true
   },
   "outputs": [],
   "source": [
    "# adding our python module to the cluster\n",
    "sc.addFile(\"/home/dataproc/inverted_index_gcp.py\")\n",
    "sys.path.insert(0,SparkFiles.getRootDirectory())"
   ]
  },
  {
   "cell_type": "code",
   "execution_count": 9,
   "id": "c259c402",
   "metadata": {
    "id": "2477a5b9"
   },
   "outputs": [],
   "source": [
    "from inverted_index_gcp import *"
   ]
  },
  {
   "cell_type": "code",
   "execution_count": 10,
   "id": "e4c523e7",
   "metadata": {
    "id": "b1af29c9",
    "scrolled": false
   },
   "outputs": [
    {
     "name": "stderr",
     "output_type": "stream",
     "text": [
      "                                                                                \r"
     ]
    }
   ],
   "source": [
    "parquetFile = spark.read.parquet(*paths)\n",
    "doc_text_pairs = parquetFile.select(\"id\", \"title\").rdd\n",
    "inverted_title = InvertedIndex()"
   ]
  },
  {
   "cell_type": "code",
   "execution_count": 11,
   "id": "f3ad8fea",
   "metadata": {
    "id": "a4b6ee29",
    "nbgrader": {
     "grade": false,
     "grade_id": "cell-token2bucket",
     "locked": false,
     "schema_version": 3,
     "solution": true,
     "task": false
    }
   },
   "outputs": [],
   "source": [
    "english_stopwords = frozenset(stopwords.words('english'))\n",
    "corpus_stopwords = [\"category\", \"references\", \"also\", \"external\", \"links\", \n",
    "                    \"may\", \"first\", \"see\", \"history\", \"people\", \"one\", \"two\", \n",
    "                    \"part\", \"thumb\", \"including\", \"second\", \"following\", \n",
    "                    \"many\", \"however\", \"would\", \"became\"]\n",
    "\n",
    "all_stopwords = english_stopwords.union(corpus_stopwords)\n",
    "RE_WORD = re.compile(r\"\"\"[\\#\\@\\w](['\\-]?\\w){2,24}\"\"\", re.UNICODE)\n",
    "\n",
    "\n",
    "def word_count(id, text):\n",
    "  ''' Count the frequency of each word in `text` (tf) that is not included in\n",
    "  `all_stopwords` and return entries that will go into our posting lists.\n",
    "  Parameters:\n",
    "  -----------\n",
    "    text: str\n",
    "      Text of one document\n",
    "    id: int\n",
    "      Document id\n",
    "  Returns:\n",
    "  --------\n",
    "    List of tuples\n",
    "      A list of (token, (doc_id, tf)) pairs\n",
    "      for example: [(\"Anarchism\", (12, 5)), ...]\n",
    "    '''\n",
    "  tokens = [token.group() for token in RE_WORD.finditer(text.lower())]\n",
    "  tokens = [token.group() for token in RE_WORD.finditer(text.lower())]\n",
    "  tokens = [x for x in tokens if x not in all_stopwords]\n",
    "  tuples = []\n",
    "  tf_dict = Counter(tokens)\n",
    "  res = []\n",
    "  [res.append(x) for x in tokens if x not in res]\n",
    "  for t in res:\n",
    "    tuples.append((t,(id,tf_dict[t])))\n",
    "  return tuples\n",
    "\n",
    "def count_doc_len(doc_id, text):\n",
    "  tokens = [token.group() for token in RE_WORD.finditer(text.lower())]\n",
    "  tokens = [token.group() for token in RE_WORD.finditer(text.lower())]\n",
    "  tokens = [x for x in tokens if x not in all_stopwords]\n",
    "  return (doc_id,len(tokens))\n",
    "\n",
    "def tf_for_term_id(doc_id, text):\n",
    "  tokens = [token.group() for token in RE_WORD.finditer(text.lower())]\n",
    "  tokens = [token.group() for token in RE_WORD.finditer(text.lower())]\n",
    "  tokens = [x for x in tokens if x not in all_stopwords]\n",
    "  tuples = []\n",
    "  tf_dict = Counter(tokens)\n",
    "  res = []\n",
    "  [res.append(x) for x in tokens if x not in res]\n",
    "  for t in res:\n",
    "    tuples.append((t,tf_dict[t]))\n",
    "  return tuples\n",
    "\n",
    "def reduce_word_counts(unsorted_pl):\n",
    "  ''' Returns a sorted posting list by wiki_id.\n",
    "  Parameters:\n",
    "  -----------\n",
    "    unsorted_pl: list of tuples\n",
    "      A list of (wiki_id, tf) tuples\n",
    "  Returns:\n",
    "  --------\n",
    "    list of tuples\n",
    "      A sorted posting list.\n",
    "  '''\n",
    "  sorted_pl = sorted(unsorted_pl, key=lambda x: x[0])\n",
    "  return sorted_pl\n",
    "\n",
    "def calculate_df(postings):\n",
    "  ''' Takes a posting list RDD and calculate the df for each token.\n",
    "  Parameters:\n",
    "  -----------\n",
    "    postings: RDD\n",
    "      An RDD where each element is a (token, posting_list) pair.\n",
    "  Returns:\n",
    "  --------\n",
    "    RDD\n",
    "      An RDD where each element is a (token, df) pair.\n",
    "  '''\n",
    "  token_df = postings.map(lambda x: (x[0], len(x[1])))\n",
    "  return token_df\n",
    "\n"
   ]
  },
  {
   "cell_type": "code",
   "execution_count": 12,
   "id": "55c8764e",
   "metadata": {
    "id": "0b5d7296",
    "nbgrader": {
     "grade": false,
     "grade_id": "cell-index_construction",
     "locked": false,
     "schema_version": 3,
     "solution": true,
     "task": false
    }
   },
   "outputs": [
    {
     "name": "stderr",
     "output_type": "stream",
     "text": [
      "                                                                                \r"
     ]
    }
   ],
   "source": [
    "word_counts_title = doc_text_pairs.flatMap(lambda x: word_count(x[0], x[1]))\n",
    "len_docs_title = doc_text_pairs.map(lambda x: count_doc_len(x[0], x[1]))\n",
    "len_docs_title = len_docs_title.collectAsMap()\n",
    "inverted_title.DL = len_docs_title"
   ]
  },
  {
   "cell_type": "code",
   "execution_count": 13,
   "id": "2c3b1eb3",
   "metadata": {},
   "outputs": [
    {
     "name": "stdout",
     "output_type": "stream",
     "text": [
      "{4045403: 4, 4045413: 2, 4045419: 2, 4045426: 2, 4045432: 1, 4045456: 3, 4045466: 2, 4045471: 2, 4045479: 2, 4045516: 2, 4045519: 2, 4045523: 1, 4045525: 5, 4045532: 1, 4045544: 2, 4045546: 1, 4045554: 4, 4045575: 2, 4045577: 2, 4045581: 4}\n"
     ]
    }
   ],
   "source": [
    "first_20_items = dict(list(inverted_title.DL.items())[:20])\n",
    "print(first_20_items)\n"
   ]
  },
  {
   "cell_type": "code",
   "execution_count": 14,
   "id": "dfaedd33",
   "metadata": {},
   "outputs": [],
   "source": [
    "postings_title = word_counts_title.groupByKey().mapValues(reduce_word_counts)"
   ]
  },
  {
   "cell_type": "code",
   "execution_count": 15,
   "id": "14fd9074",
   "metadata": {},
   "outputs": [
    {
     "name": "stderr",
     "output_type": "stream",
     "text": [
      "                                                                                \r"
     ]
    }
   ],
   "source": [
    "total_terms_title = postings_title.flatMapValues(lambda x : x).map(lambda x: (x[0],x[1][1])).reduceByKey(add)\n",
    "inverted_title.term_total = total_terms_title.collectAsMap()"
   ]
  },
  {
   "cell_type": "code",
   "execution_count": 16,
   "id": "387ee38e",
   "metadata": {},
   "outputs": [
    {
     "name": "stdout",
     "output_type": "stream",
     "text": [
      "{'glass': 1247, 'crawfordsville': 20, 'los': 4402, '1983': 3192, 'field': 6356, 'east': 10466, 'denise': 439, 'engine': 1570, 'bar': 1574, 'mair': 90, 'tracy': 638, 'silver': 2090, 'carr': 771, 'composer': 1362, 'chrysalis': 29, 'nawaz': 123, 'mind': 1185, 'abdel': 399, 'sherman': 723, 'raaba': 1}\n"
     ]
    }
   ],
   "source": [
    "first_20_items = dict(list(inverted_title.term_total.items())[:20])\n",
    "print(first_20_items)"
   ]
  },
  {
   "cell_type": "code",
   "execution_count": 17,
   "id": "9e8a1c47",
   "metadata": {},
   "outputs": [
    {
     "name": "stderr",
     "output_type": "stream",
     "text": [
      "                                                                                \r"
     ]
    }
   ],
   "source": [
    "w2df_title = calculate_df(postings_title)\n",
    "w2df_title_dict = w2df_title.collectAsMap()\n"
   ]
  },
  {
   "cell_type": "code",
   "execution_count": 18,
   "id": "b8c59d02",
   "metadata": {},
   "outputs": [],
   "source": [
    "NUM_BUCKETS = 124\n",
    "def token2bucket_id(token):\n",
    "  return int(_hash(token),16) % NUM_BUCKETS\n",
    "\n",
    "def partition_postings_and_write(postings,base_dir):\n",
    "  ''' A function that partitions the posting lists into buckets, writes out\n",
    "  all posting lists in a bucket to disk, and returns the posting locations for\n",
    "  each bucket. Partitioning should be done through the use of `token2bucket`\n",
    "  above. Writing to disk should use the function  `write_a_posting_list`, a\n",
    "  static method implemented in inverted_index_colab.py under the InvertedIndex\n",
    "  class.\n",
    "  Parameters:\n",
    "  -----------\n",
    "    postings: RDD\n",
    "      An RDD where each item is a (w, posting_list) pair.\n",
    "  Returns:\n",
    "  --------\n",
    "    RDD\n",
    "      An RDD where each item is a posting locations dictionary for a bucket. The\n",
    "      posting locations maintain a list for each word of file locations and\n",
    "      offsets its posting list was written to. See `write_a_posting_list` for\n",
    "      more details.\n",
    "  '''\n",
    "  bucket_name = \"nettaya-315443382\"\n",
    "\n",
    " # Assume postings is an RDD or a similar collection where each item is a (word, posting list) pair\n",
    " # First, transform postings into (bucket_id, (word, posting list)) for grouping using your `token2bucket_id` logic\n",
    "  postings_by_bucket = postings.map(lambda x: (token2bucket_id(x[0]), x))\n",
    "\n",
    "  # Group postings by bucket_id and prepare them for writing\n",
    "  postings_grouped = postings_by_bucket.groupByKey().mapValues(list)\n",
    "\n",
    "  # For each bucket, write postings to disk and collect location info\n",
    "  postings_locations = postings_grouped.map(lambda x: InvertedIndex.write_a_posting_list(x, base_dir, bucket_name))\n",
    "\n",
    "  return postings_locations"
   ]
  },
  {
   "cell_type": "code",
   "execution_count": 19,
   "id": "14228381",
   "metadata": {},
   "outputs": [
    {
     "name": "stderr",
     "output_type": "stream",
     "text": [
      "                                                                                \r"
     ]
    }
   ],
   "source": [
    "postings_locs_title = partition_postings_and_write(postings_title,'title').collect()"
   ]
  },
  {
   "cell_type": "code",
   "execution_count": 20,
   "id": "ab3296f4",
   "metadata": {
    "id": "Opl6eRNLM5Xv",
    "nbgrader": {
     "grade": true,
     "grade_id": "collect-posting",
     "locked": true,
     "points": 0,
     "schema_version": 3,
     "solution": false,
     "task": false
    }
   },
   "outputs": [],
   "source": [
    "# collect all posting lists locations into one super-set\n",
    "super_posting_locs_title = defaultdict(list)\n",
    "for blob in client.list_blobs(bucket_name, prefix='title'):\n",
    "    if not blob.name.endswith(\".pickle\"):\n",
    "        continue\n",
    "    with blob.open(\"rb\") as f:\n",
    "        posting_locs = pickle.load(f)\n",
    "        for k, v in posting_locs.items():\n",
    "            super_posting_locs_title[k].extend(v)\n"
   ]
  },
  {
   "cell_type": "code",
   "execution_count": 21,
   "id": "b110b321",
   "metadata": {},
   "outputs": [
    {
     "name": "stdout",
     "output_type": "stream",
     "text": [
      "{'montgomery': [('title/0_000.bin', 0)], 'argentino': [('title/0_000.bin', 7092)], 'andronikos': [('title/0_000.bin', 8070)], 'ricci': [('title/0_000.bin', 8400)], 'ardenwald-johnson': [('title/0_000.bin', 9324)], 'shinwar': [('title/0_000.bin', 9330)], 'gunzgen': [('title/0_000.bin', 9342)], 'chocolat': [('title/0_000.bin', 9348)], 'woolly': [('title/0_000.bin', 9510)], 'abertrinant': [('title/0_000.bin', 10026)], 'butega': [('title/0_000.bin', 10032)], 'piri': [('title/0_000.bin', 10038)], 'baczyńscy': [('title/0_000.bin', 10230)], 'dąbrowa-wilki': [('title/0_000.bin', 10236)], 'kwamina': [('title/0_000.bin', 10242)], 'selemani': [('title/0_000.bin', 10302)], 'porsche-schinkeová': [('title/0_000.bin', 10350)], 'olit': [('title/0_000.bin', 10356)], 'quétineau': [('title/0_000.bin', 10362)], 'juruti': [('title/0_000.bin', 10368)]}\n"
     ]
    }
   ],
   "source": [
    "first_20_items = dict(list(super_posting_locs_title.items())[:20])\n",
    "print(first_20_items)"
   ]
  },
  {
   "cell_type": "code",
   "execution_count": 22,
   "id": "a5d2cfb6",
   "metadata": {
    "id": "54vqT_0WNc3w"
   },
   "outputs": [
    {
     "name": "stdout",
     "output_type": "stream",
     "text": [
      "-rw-r--r-- 1 root root 139370875 Mar  8 13:29 index_title.pkl\n",
      "Copying file://index_title.pkl [Content-Type=application/octet-stream]...\n",
      "\\ [1 files][132.9 MiB/132.9 MiB]                                                \n",
      "Operation completed over 1 objects/132.9 MiB.                                    \n"
     ]
    }
   ],
   "source": [
    "# Adding the posting locations dictionary to the inverted index\n",
    "inverted_title.posting_locs = super_posting_locs_title\n",
    "# Add the token - df dictionary to the inverted index\n",
    "inverted_title.df = w2df_title_dict\n",
    "# write the global stats out\n",
    "inverted_title.write_index('.', 'index_title')\n",
    "!ls -l index_title.pkl\n",
    "# upload to gs\n",
    "index_src = \"index_title.pkl\"\n",
    "index_dst = f'gs://{bucket_name}/postings_gcp_title/{index_src}'\n",
    "!gsutil cp index_title.pkl gs://nettaya-315443382/postings_gcp_title/index_title.pkl"
   ]
  },
  {
   "cell_type": "code",
   "execution_count": 23,
   "id": "2d48f909",
   "metadata": {},
   "outputs": [
    {
     "name": "stdout",
     "output_type": "stream",
     "text": [
      "{'montgomery': [('title/0_000.bin', 0)], 'argentino': [('title/0_000.bin', 7092)], 'andronikos': [('title/0_000.bin', 8070)], 'ricci': [('title/0_000.bin', 8400)], 'ardenwald-johnson': [('title/0_000.bin', 9324)], 'shinwar': [('title/0_000.bin', 9330)], 'gunzgen': [('title/0_000.bin', 9342)], 'chocolat': [('title/0_000.bin', 9348)], 'woolly': [('title/0_000.bin', 9510)], 'abertrinant': [('title/0_000.bin', 10026)], 'butega': [('title/0_000.bin', 10032)], 'piri': [('title/0_000.bin', 10038)], 'baczyńscy': [('title/0_000.bin', 10230)], 'dąbrowa-wilki': [('title/0_000.bin', 10236)], 'kwamina': [('title/0_000.bin', 10242)], 'selemani': [('title/0_000.bin', 10302)], 'porsche-schinkeová': [('title/0_000.bin', 10350)], 'olit': [('title/0_000.bin', 10356)], 'quétineau': [('title/0_000.bin', 10362)], 'juruti': [('title/0_000.bin', 10368)]}\n"
     ]
    }
   ],
   "source": [
    "first_20_items = dict(list(inverted_title.posting_locs.items())[:20])\n",
    "print(first_20_items)"
   ]
  },
  {
   "cell_type": "code",
   "execution_count": 24,
   "id": "12f0ede2",
   "metadata": {},
   "outputs": [
    {
     "name": "stdout",
     "output_type": "stream",
     "text": [
      "{'tianjin': 205, 'lambs': 29, 'streptanthus': 32, 'bread': 341, 'henan': 161, 'glass': 1244, 'akina': 33, 'los': 4388, 'demon': 493, 'field': 6350, 'padvaxtag': 1, 'herrera': 489, 'interaction': 156, 'z-403': 1, 'trunking': 8, 'east': 10448, 'cantigny': 5, 'gunerius': 7, 'stockholm': 529, 'jamaica': 841}\n"
     ]
    }
   ],
   "source": [
    "first_20_items = dict(list(inverted_title.df.items())[:20])\n",
    "print(first_20_items)"
   ]
  },
  {
   "cell_type": "code",
   "execution_count": null,
   "id": "09d8601c",
   "metadata": {},
   "outputs": [],
   "source": [
    "\n"
   ]
  }
 ],
 "metadata": {
  "celltoolbar": "Create Assignment",
  "colab": {
   "collapsed_sections": [],
   "name": "assignment3_gcp.ipynb",
   "provenance": [],
   "toc_visible": true
  },
  "kernelspec": {
   "display_name": "PySpark",
   "language": "python",
   "name": "pyspark"
  },
  "language_info": {
   "codemirror_mode": {
    "name": "ipython",
    "version": 3
   },
   "file_extension": ".py",
   "mimetype": "text/x-python",
   "name": "python",
   "nbconvert_exporter": "python",
   "pygments_lexer": "ipython3",
   "version": "3.10.8"
  }
 },
 "nbformat": 4,
 "nbformat_minor": 5
}
